{
 "cells": [
  {
   "cell_type": "markdown",
   "id": "2735c935",
   "metadata": {
    "id": "2735c935"
   },
   "source": [
    "<h1><center> Assignment 1: EDA United Nations General Debate Corpus  </center></h1>\n",
    "\n"
   ]
  },
  {
   "cell_type": "markdown",
   "id": "0c7c94a6",
   "metadata": {},
   "source": [
    "## Read UNGDC"
   ]
  },
  {
   "cell_type": "code",
   "execution_count": 1,
   "id": "cd0b3ce3",
   "metadata": {
    "id": "cd0b3ce3",
    "outputId": "2389f396-4af3-408f-ead4-16e595e79676"
   },
   "outputs": [],
   "source": [
    "import os\n",
    "import numpy as np\n",
    "import pandas as pd\n",
    "from sklearn.feature_extraction.text import CountVectorizer\n",
    "import matplotlib.pyplot as plt\n",
    "\n",
    "sessions = np.arange(25, 76)\n",
    "data=[]\n",
    "\n",
    "for session in sessions:\n",
    "    directory = \"./TXT/Session \"+str(session)+\" - \"+str(1945+session)\n",
    "    for filename in os.listdir(directory):\n",
    "        f = open(os.path.join(directory, filename))\n",
    "        if filename[0]==\".\": #ignore hidden files\n",
    "            continue\n",
    "        splt = filename.split(\"_\")\n",
    "        data.append([session, 1945+session, splt[0], f.read()])\n",
    "\n",
    "        \n",
    "df_speech = pd.DataFrame(data, columns=['Session','Year','ISO-alpha3 Code','Speech'])\n",
    "df_codes = pd.read_csv('UNSD — Methodology.csv', sep=';')\n",
    "\n",
    "df_un_merged = df_speech.merge(df_codes[['Country or Area','ISO-alpha3 Code']], how='left', left_on='ISO-alpha3 Code', right_on='ISO-alpha3 Code')\n",
    "df_un_merged.set_index(['Year','ISO-alpha3 Code'], inplace=True)\n",
    "df_un_merged[\"Speech\"] = df_un_merged[\"Speech\"].str.lower()\n"
   ]
  },
  {
   "cell_type": "markdown",
   "id": "e804ea16",
   "metadata": {},
   "source": [
    "## Run bag of words"
   ]
  },
  {
   "cell_type": "code",
   "execution_count": 2,
   "id": "a2bd027e",
   "metadata": {},
   "outputs": [],
   "source": [
    "count_vect = CountVectorizer(lowercase=True, \\\n",
    "                             stop_words='english',\\\n",
    "                             analyzer='word',\\\n",
    "                            token_pattern=r\"[a-z]+'?[a-z]+\", \\\n",
    "                            min_df=10)\n",
    "X_counts = count_vect.fit_transform(df_un_merged[\"Speech\"])\n",
    "words_list = count_vect.get_feature_names_out()\n",
    "X_counts = pd.DataFrame(X_counts.toarray(), columns=words_list)\n"
   ]
  },
  {
   "cell_type": "markdown",
   "id": "b87532eb",
   "metadata": {},
   "source": [
    "## Merge UNGDC with bag of words"
   ]
  },
  {
   "cell_type": "code",
   "execution_count": 3,
   "id": "2f164286",
   "metadata": {},
   "outputs": [],
   "source": [
    "df_un_merged = df_un_merged.reset_index().merge(X_counts, how='left', left_index=True, right_index=True)\n",
    "df_un_merged.set_index(['Year','ISO-alpha3 Code'], inplace=True)\n"
   ]
  },
  {
   "cell_type": "markdown",
   "id": "625760ad",
   "metadata": {},
   "source": [
    "## Read happiness report and merge with country codes to get ISO-alpha3 Code"
   ]
  },
  {
   "cell_type": "code",
   "execution_count": 4,
   "id": "7e9aa614",
   "metadata": {
    "scrolled": true
   },
   "outputs": [],
   "source": [
    "happinessdataframe = pd.read_excel('DataForTable2.1.xls')\n",
    "df_happiness_merged = happinessdataframe.merge(df_codes[['Country or Area','ISO-alpha3 Code']], how='left', left_on='Country name', right_on='Country or Area')\n",
    "df_happiness_merged.set_index(['year','ISO-alpha3 Code'], inplace=True)\n",
    "df_happiness_merged.index.rename(['Year','ISO-alpha3 Code'], inplace=True)\n",
    "df_happiness_merged.drop(columns=['Country name','Country or Area'], inplace=True)"
   ]
  },
  {
   "cell_type": "markdown",
   "id": "4c58defa",
   "metadata": {},
   "source": [
    "## Merge UNGDC with happiness report by Multiple index Year, ISO"
   ]
  },
  {
   "cell_type": "code",
   "execution_count": 5,
   "id": "b9710c03",
   "metadata": {},
   "outputs": [],
   "source": [
    "df_un_merged = df_un_merged.merge(df_happiness_merged, how='left', left_index=True, right_index=True)"
   ]
  },
  {
   "cell_type": "markdown",
   "id": "67242e61",
   "metadata": {},
   "source": [
    "## Build Regression for Life Ladder"
   ]
  },
  {
   "cell_type": "markdown",
   "id": "7d235135",
   "metadata": {},
   "source": [
    "### remove NaN rows from Life Ladder"
   ]
  },
  {
   "cell_type": "code",
   "execution_count": 6,
   "id": "4fc1d2a5",
   "metadata": {},
   "outputs": [],
   "source": [
    "# remove na from rows\n",
    "x=df_un_merged.dropna(subset=['Life Ladder'])"
   ]
  },
  {
   "cell_type": "markdown",
   "id": "3c57775e",
   "metadata": {},
   "source": [
    "### Split data set"
   ]
  },
  {
   "cell_type": "code",
   "execution_count": 7,
   "id": "1a104d84",
   "metadata": {},
   "outputs": [],
   "source": [
    "from sklearn.linear_model import LinearRegression\n",
    "from sklearn.metrics import mean_squared_error, r2_score\n",
    "from sklearn.model_selection import train_test_split\n",
    "from sklearn.model_selection import GridSearchCV\n",
    "from sklearn.preprocessing import PolynomialFeatures\n",
    "from sklearn.pipeline import make_pipeline\n",
    "\n",
    "\n",
    "Y = x['Life Ladder'].values\n",
    "X = x[count_vect.get_feature_names_out()]\n",
    "\n",
    "# splitting the data\n",
    "x_rem, x_test, y_rem, y_test = train_test_split(X, Y, test_size=0.3, random_state = 42)\n",
    "x_train, x_valid, y_train, y_valid = train_test_split(x_rem, y_rem, test_size=0.3, random_state = 42)\n",
    "\n",
    "\n",
    "\n",
    "\n"
   ]
  },
  {
   "cell_type": "markdown",
   "id": "649cf308",
   "metadata": {},
   "source": [
    "### Hyperparameters tunning based grid search on validation data set"
   ]
  },
  {
   "cell_type": "code",
   "execution_count": 8,
   "id": "f71ee816",
   "metadata": {},
   "outputs": [
    {
     "name": "stderr",
     "output_type": "stream",
     "text": [
      "/home/wolfson/anaconda3/lib/python3.9/site-packages/sklearn/model_selection/_validation.py:372: FitFailedWarning: \n",
      "5 fits failed out of a total of 10.\n",
      "The score on these train-test partitions for these parameters will be set to nan.\n",
      "If these failures are not expected, you can try to debug them by setting error_score='raise'.\n",
      "\n",
      "Below are more details about the failures:\n",
      "--------------------------------------------------------------------------------\n",
      "4 fits failed with the following error:\n",
      "Traceback (most recent call last):\n",
      "  File \"/home/wolfson/anaconda3/lib/python3.9/site-packages/sklearn/model_selection/_validation.py\", line 680, in _fit_and_score\n",
      "    estimator.fit(X_train, y_train, **fit_params)\n",
      "  File \"/home/wolfson/anaconda3/lib/python3.9/site-packages/sklearn/pipeline.py\", line 390, in fit\n",
      "    Xt = self._fit(X, y, **fit_params_steps)\n",
      "  File \"/home/wolfson/anaconda3/lib/python3.9/site-packages/sklearn/pipeline.py\", line 348, in _fit\n",
      "    X, fitted_transformer = fit_transform_one_cached(\n",
      "  File \"/home/wolfson/anaconda3/lib/python3.9/site-packages/joblib/memory.py\", line 349, in __call__\n",
      "    return self.func(*args, **kwargs)\n",
      "  File \"/home/wolfson/anaconda3/lib/python3.9/site-packages/sklearn/pipeline.py\", line 893, in _fit_transform_one\n",
      "    res = transformer.fit_transform(X, y, **fit_params)\n",
      "  File \"/home/wolfson/anaconda3/lib/python3.9/site-packages/sklearn/base.py\", line 855, in fit_transform\n",
      "    return self.fit(X, y, **fit_params).transform(X)\n",
      "  File \"/home/wolfson/anaconda3/lib/python3.9/site-packages/sklearn/preprocessing/_polynomial.py\", line 446, in transform\n",
      "    XP[:, current_col : current_col + n_features] = X\n",
      "ValueError: could not broadcast input array from shape (283,19361) into shape (283,0)\n",
      "\n",
      "--------------------------------------------------------------------------------\n",
      "1 fits failed with the following error:\n",
      "Traceback (most recent call last):\n",
      "  File \"/home/wolfson/anaconda3/lib/python3.9/site-packages/sklearn/model_selection/_validation.py\", line 680, in _fit_and_score\n",
      "    estimator.fit(X_train, y_train, **fit_params)\n",
      "  File \"/home/wolfson/anaconda3/lib/python3.9/site-packages/sklearn/pipeline.py\", line 390, in fit\n",
      "    Xt = self._fit(X, y, **fit_params_steps)\n",
      "  File \"/home/wolfson/anaconda3/lib/python3.9/site-packages/sklearn/pipeline.py\", line 348, in _fit\n",
      "    X, fitted_transformer = fit_transform_one_cached(\n",
      "  File \"/home/wolfson/anaconda3/lib/python3.9/site-packages/joblib/memory.py\", line 349, in __call__\n",
      "    return self.func(*args, **kwargs)\n",
      "  File \"/home/wolfson/anaconda3/lib/python3.9/site-packages/sklearn/pipeline.py\", line 893, in _fit_transform_one\n",
      "    res = transformer.fit_transform(X, y, **fit_params)\n",
      "  File \"/home/wolfson/anaconda3/lib/python3.9/site-packages/sklearn/base.py\", line 855, in fit_transform\n",
      "    return self.fit(X, y, **fit_params).transform(X)\n",
      "  File \"/home/wolfson/anaconda3/lib/python3.9/site-packages/sklearn/preprocessing/_polynomial.py\", line 446, in transform\n",
      "    XP[:, current_col : current_col + n_features] = X\n",
      "ValueError: could not broadcast input array from shape (284,19361) into shape (284,0)\n",
      "\n",
      "  warnings.warn(some_fits_failed_message, FitFailedWarning)\n",
      "/home/wolfson/anaconda3/lib/python3.9/site-packages/sklearn/model_selection/_search.py:969: UserWarning: One or more of the test scores are non-finite: [       nan 0.49350392]\n",
      "  warnings.warn(\n"
     ]
    }
   ],
   "source": [
    "# Create grid of parameters to test through cross-validation\n",
    "param_grid = {'polynomialfeatures__degree': np.arange(2)}\n",
    "\n",
    "model = make_pipeline( PolynomialFeatures(), LinearRegression())\n",
    "grid = GridSearchCV(model, param_grid, cv=5)\n",
    "grid.fit(x_valid, y_valid);\n"
   ]
  },
  {
   "cell_type": "markdown",
   "id": "0eb084d2",
   "metadata": {},
   "source": [
    "### Fit the best estimator on train set"
   ]
  },
  {
   "cell_type": "code",
   "execution_count": 9,
   "id": "780bf609",
   "metadata": {},
   "outputs": [
    {
     "data": {
      "text/plain": [
       "Pipeline(steps=[('polynomialfeatures', PolynomialFeatures(degree=1)),\n",
       "                ('linearregression', LinearRegression())])"
      ]
     },
     "execution_count": 9,
     "metadata": {},
     "output_type": "execute_result"
    }
   ],
   "source": [
    "grid.best_estimator_.fit(x_train, y_train)"
   ]
  },
  {
   "cell_type": "code",
   "execution_count": 10,
   "id": "3ec6df1c",
   "metadata": {},
   "outputs": [
    {
     "name": "stdout",
     "output_type": "stream",
     "text": [
      "Model accuracy:\n",
      "Mean squared error: 0.58\n",
      "Variance score: 0.49\n",
      "\n"
     ]
    }
   ],
   "source": [
    "y_pred = grid.best_estimator_.predict(x_test)\n",
    "\n",
    "# Compute test error and variance score\n",
    "print(\"Model accuracy:\")\n",
    "print(\"Mean squared error: %.2f\" % mean_squared_error(y_test, y_pred))\n",
    "print('Variance score: %.2f' % r2_score(y_test, y_pred))\n",
    "print(\"\")"
   ]
  },
  {
   "cell_type": "code",
   "execution_count": 11,
   "id": "76e71bc1",
   "metadata": {},
   "outputs": [
    {
     "data": {
      "image/png": "[encoded data removed]",
      "text/plain": [
       "<Figure size 432x288 with 1 Axes>"
      ]
     },
     "metadata": {
      "needs_background": "light"
     },
     "output_type": "display_data"
    }
   ],
   "source": [
    "fig, ax = plt.subplots()\n",
    "ax.scatter(np.arange(0,len(y_test)),y_test, c='black')\n",
    "ax.scatter(np.arange(0,len(y_pred)),y_pred, c='red')\n",
    "plt.show()"
   ]
  },
  {
   "cell_type": "code",
   "execution_count": null,
   "id": "99c36319",
   "metadata": {},
   "outputs": [],
   "source": []
  }
 ],
 "metadata": {
  "colab": {
   "collapsed_sections": [],
   "name": "Lab3-Assignment1-Aux.ipynb",
   "provenance": []
  },
  "kernelspec": {
   "display_name": "Python 3",
   "language": "python",
   "name": "python3"
  },
  "language_info": {
   "codemirror_mode": {
    "name": "ipython",
    "version": 3
   },
   "file_extension": ".py",
   "mimetype": "text/x-python",
   "name": "python",
   "nbconvert_exporter": "python",
   "pygments_lexer": "ipython3",
   "version": "3.9.12"
  }
 },
 "nbformat": 4,
 "nbformat_minor": 5
}
